{
 "cells": [
  {
   "cell_type": "code",
   "execution_count": 1,
   "metadata": {},
   "outputs": [
    {
     "name": "stdout",
     "output_type": "stream",
     "text": [
      "E:\\DEPWS\\code\\biomass\\tile_biomass_zonal_pipeline\\code\n"
     ]
    }
   ],
   "source": [
    "cd ../code"
   ]
  },
  {
   "cell_type": "code",
   "execution_count": 2,
   "metadata": {},
   "outputs": [
    {
     "name": "stdout",
     "output_type": "stream",
     "text": [
      " Volume in drive E is PGB-BAS14_DISK_2_E\n",
      " Volume Serial Number is 609D-6576\n",
      "\n",
      " Directory of E:\\DEPWS\\code\\biomass\\tile_biomass_zonal_pipeline\\code\n",
      "\n",
      "10/24/2022  09:37 AM    <DIR>          .\n",
      "10/24/2022  09:37 AM    <DIR>          ..\n",
      "10/25/2022  03:32 PM    <DIR>          __pycache__\n",
      "10/24/2022  09:29 AM            24,508 step1_1_initiate_fractional_cover_zonal_stats_pipeline.py\n",
      "10/03/2022  08:32 AM            11,489 step1_10_seasonal_h99a2_zonal_stats.py\n",
      "10/03/2022  08:32 AM            11,452 step1_11_seasonal_fpca2_zonal_stats.py\n",
      "10/03/2022  08:32 AM            11,452 step1_12_seasonal_dbi_zonal_stats.py\n",
      "10/03/2022  08:32 AM            11,452 step1_13_seasonal_dim_zonal_stats.py\n",
      "10/03/2022  08:32 AM            11,452 step1_14_seasonal_dis_zonal_stats.py\n",
      "10/03/2022  08:32 AM            11,452 step1_15_seasonal_dja_zonal_stats.py\n",
      "10/03/2022  08:32 AM            11,452 step1_16_seasonal_dka_zonal_stats.py\n",
      "10/03/2022  08:32 AM            11,452 step1_16_seasonal_stc_zonal_stats.py\n",
      "10/03/2022  08:32 AM             4,066 step1_2_list_of_fpca2_images.py\n",
      "10/03/2022  08:32 AM             4,066 step1_2_list_of_h99a2_images.py\n",
      "10/03/2022  08:32 AM             4,121 step1_2_list_of_images.py\n",
      "10/11/2022  01:32 PM             6,261 step1_2_list_of_qld_grid_images.py\n",
      "10/03/2022  08:32 AM             5,722 step1_2_list_of_rainfall_images.py\n",
      "10/03/2022  08:32 AM             4,121 step1_2_list_of_tree_height_images.py\n",
      "10/12/2022  11:16 AM            19,502 step1_3_collate_odk_apply_1ha_buffer.py\n",
      "10/24/2022  09:24 AM            16,329 step1_3_project_buffer.py\n",
      "10/03/2022  08:32 AM            14,064 step1_4_landsat_tile_grid_identify.py\n",
      "10/24/2022  09:22 AM            15,751 step1_4_landsat_tile_grid_identify2.py\n",
      "10/17/2022  10:03 AM            12,361 step1_5_dbg_landsat_list3.py\n",
      "10/12/2022  03:19 PM            12,656 step1_5_dil_landsat_list.py\n",
      "10/12/2022  03:05 PM            12,254 step1_5_dp0_landsat_list.py\n",
      "10/13/2022  12:34 PM            12,237 step1_5_dp0_landsat_list2.py\n",
      "10/17/2022  08:20 AM            12,360 step1_5_dp0_landsat_list3.py\n",
      "10/13/2022  01:27 PM            12,144 step1_5_dp1_landsat_list.py\n",
      "10/24/2022  09:37 AM            12,362 step1_5_dp1_landsat_list2.py\n",
      "10/12/2022  01:08 PM            12,079 step1_5_reflectance_landsat_list.py\n",
      "10/12/2022  01:08 PM            12,042 step1_5_tree_height_landsat_list.py\n",
      "10/19/2022  02:42 PM            20,636 step1_6_dbg_zonal_stats3.py\n",
      "10/12/2022  01:14 PM            15,383 step1_6_dil_zonal_stats.py\n",
      "10/13/2022  12:49 PM            15,776 step1_6_dp0_zonal_stats.py\n",
      "10/19/2022  02:47 PM            19,403 step1_6_dp0_zonal_stats3.py\n",
      "10/19/2022  02:42 PM            21,170 step1_6_dp1_zonal_stats.py\n",
      "10/03/2022  08:32 AM             9,135 step1_7_monthly_rainfall_zonal_stats.py\n",
      "10/19/2022  11:01 AM            11,467 step1_8_qld_grid_zonal_stats.py\n",
      "10/12/2022  01:14 PM            19,282 step1_9_reflectance_zonal_stats.py\n",
      "10/12/2022  01:14 PM            26,199 step1_9_reflectance_zonal_stats_working.py\n",
      "10/03/2022  08:32 AM            11,314 step1_9_seasonal_pg_zonal_stats.py\n",
      "10/11/2022  08:45 AM            11,650 step1_9_seasonal_tree_height_zonal_stats.py\n",
      "10/03/2022  08:32 AM            11,314 step1_9_seasonal_wfpc_zonal_stats.py\n",
      "              40 File(s)        513,388 bytes\n",
      "               3 Dir(s)  1,960,448,679,936 bytes free\n"
     ]
    }
   ],
   "source": [
    "ls"
   ]
  },
  {
   "cell_type": "code",
   "execution_count": 3,
   "metadata": {},
   "outputs": [
    {
     "name": "stdout",
     "output_type": "stream",
     "text": [
      "usage: step1_1_initiate_fractional_cover_zonal_stats_pipeline.py\n",
      "       [-h] [-d DATA] [-t TILE_GRID] [-x EXPORT_DIR] [-i IMAGE_COUNT]\n",
      "       [-l LSAT_DIR] [-n NO_DATA] [-p PATH] [-r ROW] [-z ZONE]\n",
      "\n",
      "Input a single or multi-band raster to extracts the values from the input\n",
      "shapefile.\n",
      "\n",
      "optional arguments:\n",
      "  -h, --help            show this help message and exit\n",
      "  -d DATA, --data DATA  The directory the site points csv file.\n",
      "  -t TILE_GRID, --tile_grid TILE_GRID\n",
      "                        Enter filepath for the Landsat Tile Grid.shp.\n",
      "  -x EXPORT_DIR, --export_dir EXPORT_DIR\n",
      "                        Enter the export directory for all of the final\n",
      "                        outputs.\n",
      "  -i IMAGE_COUNT, --image_count IMAGE_COUNT\n",
      "                        Enter the minimum amount of Landsat images required\n",
      "                        per tile as an integer (i.e. 950).\n",
      "  -l LSAT_DIR, --lsat_dir LSAT_DIR\n",
      "                        The wrs2 directory containing landsat data\n",
      "  -n NO_DATA, --no_data NO_DATA\n",
      "                        Enter the Landsat Fractional Cover no data value (i.e.\n",
      "                        0)\n",
      "  -p PATH, --path PATH  Enter the Landsat path (i.e. 106)\n",
      "  -r ROW, --row ROW     Enter the Landsat row (i.e. 069)\n",
      "  -z ZONE, --zone ZONE  Enter the Landsat tile zone (i.e. 2 or 3)\n"
     ]
    }
   ],
   "source": [
    "%run step1_1_initiate_fractional_cover_zonal_stats_pipeline.py -h"
   ]
  },
  {
   "cell_type": "code",
   "execution_count": 4,
   "metadata": {},
   "outputs": [
    {
     "name": "stdout",
     "output_type": "stream",
     "text": [
      "usage: step1_1_initiate_fractional_cover_zonal_stats_pipeline.py\n",
      "       [-h] [-d DATA] [-t TILE_GRID] [-x EXPORT_DIR] [-i IMAGE_COUNT]\n",
      "       [-l LSAT_DIR] [-n NO_DATA] [-p PATH] [-r ROW] [-z ZONE]\n",
      "\n",
      "Input a single or multi-band raster to extracts the values from the input\n",
      "shapefile.\n",
      "\n",
      "optional arguments:\n",
      "  -h, --help            show this help message and exit\n",
      "  -d DATA, --data DATA  The directory the site points csv file.\n",
      "  -t TILE_GRID, --tile_grid TILE_GRID\n",
      "                        Enter filepath for the Landsat Tile Grid.shp.\n",
      "  -x EXPORT_DIR, --export_dir EXPORT_DIR\n",
      "                        Enter the export directory for all of the final\n",
      "                        outputs.\n",
      "  -i IMAGE_COUNT, --image_count IMAGE_COUNT\n",
      "                        Enter the minimum amount of Landsat images required\n",
      "                        per tile as an integer (i.e. 950).\n",
      "  -l LSAT_DIR, --lsat_dir LSAT_DIR\n",
      "                        The wrs2 directory containing landsat data\n",
      "  -n NO_DATA, --no_data NO_DATA\n",
      "                        Enter the Landsat Fractional Cover no data value (i.e.\n",
      "                        0)\n",
      "  -p PATH, --path PATH  Enter the Landsat path (i.e. 106)\n",
      "  -r ROW, --row ROW     Enter the Landsat row (i.e. 069)\n",
      "  -z ZONE, --zone ZONE  Enter the Landsat tile zone (i.e. 2 or 3)\n"
     ]
    }
   ],
   "source": [
    "%run step1_1_initiate_fractional_cover_zonal_stats_pipeline.py -p 106 -r 068 -z 2 -d"
   ]
  },
  {
   "cell_type": "code",
   "execution_count": null,
   "metadata": {},
   "outputs": [],
   "source": []
  }
 ],
 "metadata": {
  "kernelspec": {
   "display_name": "Python 3",
   "language": "python",
   "name": "python3"
  },
  "language_info": {
   "codemirror_mode": {
    "name": "ipython",
    "version": 3
   },
   "file_extension": ".py",
   "mimetype": "text/x-python",
   "name": "python",
   "nbconvert_exporter": "python",
   "pygments_lexer": "ipython3",
   "version": "3.7.7"
  }
 },
 "nbformat": 4,
 "nbformat_minor": 4
}
